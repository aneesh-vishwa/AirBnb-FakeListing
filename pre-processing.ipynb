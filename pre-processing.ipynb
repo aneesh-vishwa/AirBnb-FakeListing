{
 "cells": [
  {
   "cell_type": "code",
   "execution_count": 52,
   "metadata": {},
   "outputs": [],
   "source": [
    "import pandas as pd\n",
    "import numpy as np\n",
    "import matplotlib as malt"
   ]
  },
  {
   "cell_type": "code",
   "execution_count": 53,
   "metadata": {},
   "outputs": [],
   "source": [
    "data=pd.read_csv('AB_NYC_2019.csv')"
   ]
  },
  {
   "cell_type": "code",
   "execution_count": 54,
   "metadata": {},
   "outputs": [
    {
     "name": "stdout",
     "output_type": "stream",
     "text": [
      "<class 'pandas.core.frame.DataFrame'>\n",
      "RangeIndex: 48895 entries, 0 to 48894\n",
      "Data columns (total 16 columns):\n",
      " #   Column                          Non-Null Count  Dtype  \n",
      "---  ------                          --------------  -----  \n",
      " 0   id                              48895 non-null  int64  \n",
      " 1   name                            48879 non-null  object \n",
      " 2   host_id                         48895 non-null  int64  \n",
      " 3   host_name                       48874 non-null  object \n",
      " 4   neighbourhood_group             48895 non-null  object \n",
      " 5   neighbourhood                   48895 non-null  object \n",
      " 6   latitude                        48895 non-null  float64\n",
      " 7   longitude                       48895 non-null  float64\n",
      " 8   room_type                       48895 non-null  object \n",
      " 9   price                           48895 non-null  int64  \n",
      " 10  minimum_nights                  48895 non-null  int64  \n",
      " 11  number_of_reviews               48895 non-null  int64  \n",
      " 12  last_review                     38843 non-null  object \n",
      " 13  reviews_per_month               38843 non-null  float64\n",
      " 14  calculated_host_listings_count  48895 non-null  int64  \n",
      " 15  availability_365                48895 non-null  int64  \n",
      "dtypes: float64(3), int64(7), object(6)\n",
      "memory usage: 6.0+ MB\n"
     ]
    }
   ],
   "source": [
    "data.info()\n"
   ]
  },
  {
   "cell_type": "code",
   "execution_count": 55,
   "metadata": {},
   "outputs": [
    {
     "data": {
      "text/html": [
       "<div>\n",
       "<style scoped>\n",
       "    .dataframe tbody tr th:only-of-type {\n",
       "        vertical-align: middle;\n",
       "    }\n",
       "\n",
       "    .dataframe tbody tr th {\n",
       "        vertical-align: top;\n",
       "    }\n",
       "\n",
       "    .dataframe thead th {\n",
       "        text-align: right;\n",
       "    }\n",
       "</style>\n",
       "<table border=\"1\" class=\"dataframe\">\n",
       "  <thead>\n",
       "    <tr style=\"text-align: right;\">\n",
       "      <th></th>\n",
       "      <th>id</th>\n",
       "      <th>name</th>\n",
       "      <th>host_id</th>\n",
       "      <th>host_name</th>\n",
       "      <th>neighbourhood_group</th>\n",
       "      <th>neighbourhood</th>\n",
       "      <th>latitude</th>\n",
       "      <th>longitude</th>\n",
       "      <th>room_type</th>\n",
       "      <th>price</th>\n",
       "      <th>minimum_nights</th>\n",
       "      <th>number_of_reviews</th>\n",
       "      <th>last_review</th>\n",
       "      <th>reviews_per_month</th>\n",
       "      <th>calculated_host_listings_count</th>\n",
       "      <th>availability_365</th>\n",
       "    </tr>\n",
       "  </thead>\n",
       "  <tbody>\n",
       "    <tr>\n",
       "      <th>0</th>\n",
       "      <td>2539</td>\n",
       "      <td>Clean &amp; quiet apt home by the park</td>\n",
       "      <td>2787</td>\n",
       "      <td>John</td>\n",
       "      <td>Brooklyn</td>\n",
       "      <td>Kensington</td>\n",
       "      <td>40.64749</td>\n",
       "      <td>-73.97237</td>\n",
       "      <td>Private room</td>\n",
       "      <td>149</td>\n",
       "      <td>1</td>\n",
       "      <td>9</td>\n",
       "      <td>2018-10-19</td>\n",
       "      <td>0.21</td>\n",
       "      <td>6</td>\n",
       "      <td>365</td>\n",
       "    </tr>\n",
       "    <tr>\n",
       "      <th>1</th>\n",
       "      <td>2595</td>\n",
       "      <td>Skylit Midtown Castle</td>\n",
       "      <td>2845</td>\n",
       "      <td>Jennifer</td>\n",
       "      <td>Manhattan</td>\n",
       "      <td>Midtown</td>\n",
       "      <td>40.75362</td>\n",
       "      <td>-73.98377</td>\n",
       "      <td>Entire home/apt</td>\n",
       "      <td>225</td>\n",
       "      <td>1</td>\n",
       "      <td>45</td>\n",
       "      <td>2019-05-21</td>\n",
       "      <td>0.38</td>\n",
       "      <td>2</td>\n",
       "      <td>355</td>\n",
       "    </tr>\n",
       "    <tr>\n",
       "      <th>2</th>\n",
       "      <td>3647</td>\n",
       "      <td>THE VILLAGE OF HARLEM....NEW YORK !</td>\n",
       "      <td>4632</td>\n",
       "      <td>Elisabeth</td>\n",
       "      <td>Manhattan</td>\n",
       "      <td>Harlem</td>\n",
       "      <td>40.80902</td>\n",
       "      <td>-73.94190</td>\n",
       "      <td>Private room</td>\n",
       "      <td>150</td>\n",
       "      <td>3</td>\n",
       "      <td>0</td>\n",
       "      <td>NaN</td>\n",
       "      <td>NaN</td>\n",
       "      <td>1</td>\n",
       "      <td>365</td>\n",
       "    </tr>\n",
       "    <tr>\n",
       "      <th>3</th>\n",
       "      <td>3831</td>\n",
       "      <td>Cozy Entire Floor of Brownstone</td>\n",
       "      <td>4869</td>\n",
       "      <td>LisaRoxanne</td>\n",
       "      <td>Brooklyn</td>\n",
       "      <td>Clinton Hill</td>\n",
       "      <td>40.68514</td>\n",
       "      <td>-73.95976</td>\n",
       "      <td>Entire home/apt</td>\n",
       "      <td>89</td>\n",
       "      <td>1</td>\n",
       "      <td>270</td>\n",
       "      <td>2019-07-05</td>\n",
       "      <td>4.64</td>\n",
       "      <td>1</td>\n",
       "      <td>194</td>\n",
       "    </tr>\n",
       "    <tr>\n",
       "      <th>4</th>\n",
       "      <td>5022</td>\n",
       "      <td>Entire Apt: Spacious Studio/Loft by central park</td>\n",
       "      <td>7192</td>\n",
       "      <td>Laura</td>\n",
       "      <td>Manhattan</td>\n",
       "      <td>East Harlem</td>\n",
       "      <td>40.79851</td>\n",
       "      <td>-73.94399</td>\n",
       "      <td>Entire home/apt</td>\n",
       "      <td>80</td>\n",
       "      <td>10</td>\n",
       "      <td>9</td>\n",
       "      <td>2018-11-19</td>\n",
       "      <td>0.10</td>\n",
       "      <td>1</td>\n",
       "      <td>0</td>\n",
       "    </tr>\n",
       "  </tbody>\n",
       "</table>\n",
       "</div>"
      ],
      "text/plain": [
       "     id                                              name  host_id  \\\n",
       "0  2539                Clean & quiet apt home by the park     2787   \n",
       "1  2595                             Skylit Midtown Castle     2845   \n",
       "2  3647               THE VILLAGE OF HARLEM....NEW YORK !     4632   \n",
       "3  3831                   Cozy Entire Floor of Brownstone     4869   \n",
       "4  5022  Entire Apt: Spacious Studio/Loft by central park     7192   \n",
       "\n",
       "     host_name neighbourhood_group neighbourhood  latitude  longitude  \\\n",
       "0         John            Brooklyn    Kensington  40.64749  -73.97237   \n",
       "1     Jennifer           Manhattan       Midtown  40.75362  -73.98377   \n",
       "2    Elisabeth           Manhattan        Harlem  40.80902  -73.94190   \n",
       "3  LisaRoxanne            Brooklyn  Clinton Hill  40.68514  -73.95976   \n",
       "4        Laura           Manhattan   East Harlem  40.79851  -73.94399   \n",
       "\n",
       "         room_type  price  minimum_nights  number_of_reviews last_review  \\\n",
       "0     Private room    149               1                  9  2018-10-19   \n",
       "1  Entire home/apt    225               1                 45  2019-05-21   \n",
       "2     Private room    150               3                  0         NaN   \n",
       "3  Entire home/apt     89               1                270  2019-07-05   \n",
       "4  Entire home/apt     80              10                  9  2018-11-19   \n",
       "\n",
       "   reviews_per_month  calculated_host_listings_count  availability_365  \n",
       "0               0.21                               6               365  \n",
       "1               0.38                               2               355  \n",
       "2                NaN                               1               365  \n",
       "3               4.64                               1               194  \n",
       "4               0.10                               1                 0  "
      ]
     },
     "execution_count": 55,
     "metadata": {},
     "output_type": "execute_result"
    }
   ],
   "source": [
    "data.head()"
   ]
  },
  {
   "cell_type": "markdown",
   "metadata": {},
   "source": [
    " Handle Missing Values"
   ]
  },
  {
   "cell_type": "code",
   "execution_count": 56,
   "metadata": {},
   "outputs": [
    {
     "name": "stdout",
     "output_type": "stream",
     "text": [
      "id                                    0\n",
      "name                                 16\n",
      "host_id                               0\n",
      "host_name                            21\n",
      "neighbourhood_group                   0\n",
      "neighbourhood                         0\n",
      "latitude                              0\n",
      "longitude                             0\n",
      "room_type                             0\n",
      "price                                 0\n",
      "minimum_nights                        0\n",
      "number_of_reviews                     0\n",
      "last_review                       10052\n",
      "reviews_per_month                 10052\n",
      "calculated_host_listings_count        0\n",
      "availability_365                      0\n",
      "dtype: int64\n"
     ]
    }
   ],
   "source": [
    "print(data.isnull().sum())\n"
   ]
  },
  {
   "cell_type": "code",
   "execution_count": 57,
   "metadata": {},
   "outputs": [],
   "source": [
    "data['name'] = data['name'].fillna(\"Unknown Listing\")\n"
   ]
  },
  {
   "cell_type": "code",
   "execution_count": 58,
   "metadata": {},
   "outputs": [],
   "source": [
    "data['host_name'] = data['host_name'].fillna(\"Unknown Host\")\n"
   ]
  },
  {
   "cell_type": "code",
   "execution_count": 59,
   "metadata": {},
   "outputs": [],
   "source": [
    "data['last_review'] = pd.to_datetime(data['last_review'], errors='coerce')\n",
    "data['last_review'] = data['last_review'].fillna(\"No Reviews\")\n",
    "\n"
   ]
  },
  {
   "cell_type": "code",
   "execution_count": 60,
   "metadata": {},
   "outputs": [],
   "source": [
    "data['reviews_per_month'] = data['reviews_per_month'].fillna(0)"
   ]
  },
  {
   "cell_type": "code",
   "execution_count": 61,
   "metadata": {},
   "outputs": [
    {
     "name": "stdout",
     "output_type": "stream",
     "text": [
      "id                                0\n",
      "name                              0\n",
      "host_id                           0\n",
      "host_name                         0\n",
      "neighbourhood_group               0\n",
      "neighbourhood                     0\n",
      "latitude                          0\n",
      "longitude                         0\n",
      "room_type                         0\n",
      "price                             0\n",
      "minimum_nights                    0\n",
      "number_of_reviews                 0\n",
      "last_review                       0\n",
      "reviews_per_month                 0\n",
      "calculated_host_listings_count    0\n",
      "availability_365                  0\n",
      "dtype: int64\n"
     ]
    }
   ],
   "source": [
    "print(data.isnull().sum())  "
   ]
  },
  {
   "cell_type": "code",
   "execution_count": 62,
   "metadata": {},
   "outputs": [
    {
     "name": "stdout",
     "output_type": "stream",
     "text": [
      "<class 'pandas.core.frame.DataFrame'>\n",
      "RangeIndex: 48895 entries, 0 to 48894\n",
      "Data columns (total 16 columns):\n",
      " #   Column                          Non-Null Count  Dtype  \n",
      "---  ------                          --------------  -----  \n",
      " 0   id                              48895 non-null  int64  \n",
      " 1   name                            48895 non-null  object \n",
      " 2   host_id                         48895 non-null  int64  \n",
      " 3   host_name                       48895 non-null  object \n",
      " 4   neighbourhood_group             48895 non-null  object \n",
      " 5   neighbourhood                   48895 non-null  object \n",
      " 6   latitude                        48895 non-null  float64\n",
      " 7   longitude                       48895 non-null  float64\n",
      " 8   room_type                       48895 non-null  object \n",
      " 9   price                           48895 non-null  int64  \n",
      " 10  minimum_nights                  48895 non-null  int64  \n",
      " 11  number_of_reviews               48895 non-null  int64  \n",
      " 12  last_review                     48895 non-null  object \n",
      " 13  reviews_per_month               48895 non-null  float64\n",
      " 14  calculated_host_listings_count  48895 non-null  int64  \n",
      " 15  availability_365                48895 non-null  int64  \n",
      "dtypes: float64(3), int64(7), object(6)\n",
      "memory usage: 6.0+ MB\n"
     ]
    }
   ],
   "source": [
    "data.info()"
   ]
  },
  {
   "cell_type": "code",
   "execution_count": 63,
   "metadata": {},
   "outputs": [
    {
     "name": "stdout",
     "output_type": "stream",
     "text": [
      "id                                  int64\n",
      "name                               object\n",
      "host_id                             int64\n",
      "host_name                          object\n",
      "neighbourhood_group                object\n",
      "neighbourhood                      object\n",
      "latitude                          float64\n",
      "longitude                         float64\n",
      "room_type                          object\n",
      "price                               int64\n",
      "minimum_nights                      int64\n",
      "number_of_reviews                   int64\n",
      "last_review                        object\n",
      "reviews_per_month                 float64\n",
      "calculated_host_listings_count      int64\n",
      "availability_365                    int64\n",
      "dtype: object\n"
     ]
    }
   ],
   "source": [
    "print(data.dtypes)\n"
   ]
  },
  {
   "cell_type": "code",
   "execution_count": 64,
   "metadata": {},
   "outputs": [],
   "source": [
    "data['last_review'] = pd.to_datetime(data['last_review'], errors='coerce')\n",
    "data['last_review_year'] = data['last_review'].dt.year.fillna(0)  \n",
    "data['last_review_month'] = data['last_review'].dt.month.fillna(0)\n",
    "data.drop(columns=['last_review'], inplace=True) \n"
   ]
  },
  {
   "cell_type": "code",
   "execution_count": 65,
   "metadata": {},
   "outputs": [],
   "source": [
    "data = pd.get_dummies(data, columns=['room_type'], drop_first=True)\n"
   ]
  },
  {
   "cell_type": "code",
   "execution_count": 66,
   "metadata": {},
   "outputs": [],
   "source": [
    "\n",
    "q1, q3 = np.percentile(data['price'], [25, 75])\n",
    "iqr = q3 - q1\n",
    "lower_bound = q1 - (1.5 * iqr)\n",
    "upper_bound = q3 + (1.5 * iqr)\n",
    "\n",
    "data = data[(data['price'] >= lower_bound) & (data['price'] <= upper_bound)]\n"
   ]
  },
  {
   "cell_type": "code",
   "execution_count": 67,
   "metadata": {},
   "outputs": [],
   "source": [
    "from sklearn.preprocessing import MinMaxScaler\n",
    "\n",
    "scaler = MinMaxScaler()\n",
    "num_cols = ['latitude', 'longitude', 'price', 'minimum_nights', 'number_of_reviews', \n",
    "            'reviews_per_month', 'calculated_host_listings_count', 'availability_365']\n",
    "\n",
    "data[num_cols] = scaler.fit_transform(data[num_cols])\n"
   ]
  },
  {
   "cell_type": "code",
   "execution_count": 68,
   "metadata": {},
   "outputs": [
    {
     "data": {
      "text/html": [
       "<div>\n",
       "<style scoped>\n",
       "    .dataframe tbody tr th:only-of-type {\n",
       "        vertical-align: middle;\n",
       "    }\n",
       "\n",
       "    .dataframe tbody tr th {\n",
       "        vertical-align: top;\n",
       "    }\n",
       "\n",
       "    .dataframe thead th {\n",
       "        text-align: right;\n",
       "    }\n",
       "</style>\n",
       "<table border=\"1\" class=\"dataframe\">\n",
       "  <thead>\n",
       "    <tr style=\"text-align: right;\">\n",
       "      <th></th>\n",
       "      <th>id</th>\n",
       "      <th>name</th>\n",
       "      <th>host_id</th>\n",
       "      <th>host_name</th>\n",
       "      <th>neighbourhood_group</th>\n",
       "      <th>neighbourhood</th>\n",
       "      <th>latitude</th>\n",
       "      <th>longitude</th>\n",
       "      <th>price</th>\n",
       "      <th>minimum_nights</th>\n",
       "      <th>number_of_reviews</th>\n",
       "      <th>reviews_per_month</th>\n",
       "      <th>calculated_host_listings_count</th>\n",
       "      <th>availability_365</th>\n",
       "      <th>last_review_year</th>\n",
       "      <th>last_review_month</th>\n",
       "      <th>room_type_Private room</th>\n",
       "      <th>room_type_Shared room</th>\n",
       "    </tr>\n",
       "  </thead>\n",
       "  <tbody>\n",
       "    <tr>\n",
       "      <th>0</th>\n",
       "      <td>2539</td>\n",
       "      <td>Clean &amp; quiet apt home by the park</td>\n",
       "      <td>2787</td>\n",
       "      <td>John</td>\n",
       "      <td>Brooklyn</td>\n",
       "      <td>Kensington</td>\n",
       "      <td>0.357393</td>\n",
       "      <td>0.511921</td>\n",
       "      <td>0.446108</td>\n",
       "      <td>0.000000</td>\n",
       "      <td>0.014308</td>\n",
       "      <td>0.003590</td>\n",
       "      <td>0.015337</td>\n",
       "      <td>1.000000</td>\n",
       "      <td>2018.0</td>\n",
       "      <td>10.0</td>\n",
       "      <td>True</td>\n",
       "      <td>False</td>\n",
       "    </tr>\n",
       "    <tr>\n",
       "      <th>1</th>\n",
       "      <td>2595</td>\n",
       "      <td>Skylit Midtown Castle</td>\n",
       "      <td>2845</td>\n",
       "      <td>Jennifer</td>\n",
       "      <td>Manhattan</td>\n",
       "      <td>Midtown</td>\n",
       "      <td>0.614199</td>\n",
       "      <td>0.490469</td>\n",
       "      <td>0.673653</td>\n",
       "      <td>0.000000</td>\n",
       "      <td>0.071542</td>\n",
       "      <td>0.006496</td>\n",
       "      <td>0.003067</td>\n",
       "      <td>0.972603</td>\n",
       "      <td>2019.0</td>\n",
       "      <td>5.0</td>\n",
       "      <td>False</td>\n",
       "      <td>False</td>\n",
       "    </tr>\n",
       "    <tr>\n",
       "      <th>2</th>\n",
       "      <td>3647</td>\n",
       "      <td>THE VILLAGE OF HARLEM....NEW YORK !</td>\n",
       "      <td>4632</td>\n",
       "      <td>Elisabeth</td>\n",
       "      <td>Manhattan</td>\n",
       "      <td>Harlem</td>\n",
       "      <td>0.748252</td>\n",
       "      <td>0.569257</td>\n",
       "      <td>0.449102</td>\n",
       "      <td>0.001601</td>\n",
       "      <td>0.000000</td>\n",
       "      <td>0.000000</td>\n",
       "      <td>0.000000</td>\n",
       "      <td>1.000000</td>\n",
       "      <td>0.0</td>\n",
       "      <td>0.0</td>\n",
       "      <td>True</td>\n",
       "      <td>False</td>\n",
       "    </tr>\n",
       "    <tr>\n",
       "      <th>3</th>\n",
       "      <td>3831</td>\n",
       "      <td>Cozy Entire Floor of Brownstone</td>\n",
       "      <td>4869</td>\n",
       "      <td>LisaRoxanne</td>\n",
       "      <td>Brooklyn</td>\n",
       "      <td>Clinton Hill</td>\n",
       "      <td>0.448496</td>\n",
       "      <td>0.535649</td>\n",
       "      <td>0.266467</td>\n",
       "      <td>0.000000</td>\n",
       "      <td>0.429253</td>\n",
       "      <td>0.079316</td>\n",
       "      <td>0.000000</td>\n",
       "      <td>0.531507</td>\n",
       "      <td>2019.0</td>\n",
       "      <td>7.0</td>\n",
       "      <td>False</td>\n",
       "      <td>False</td>\n",
       "    </tr>\n",
       "    <tr>\n",
       "      <th>4</th>\n",
       "      <td>5022</td>\n",
       "      <td>Entire Apt: Spacious Studio/Loft by central park</td>\n",
       "      <td>7192</td>\n",
       "      <td>Laura</td>\n",
       "      <td>Manhattan</td>\n",
       "      <td>East Harlem</td>\n",
       "      <td>0.722820</td>\n",
       "      <td>0.565324</td>\n",
       "      <td>0.239521</td>\n",
       "      <td>0.007206</td>\n",
       "      <td>0.014308</td>\n",
       "      <td>0.001709</td>\n",
       "      <td>0.000000</td>\n",
       "      <td>0.000000</td>\n",
       "      <td>2018.0</td>\n",
       "      <td>11.0</td>\n",
       "      <td>False</td>\n",
       "      <td>False</td>\n",
       "    </tr>\n",
       "  </tbody>\n",
       "</table>\n",
       "</div>"
      ],
      "text/plain": [
       "     id                                              name  host_id  \\\n",
       "0  2539                Clean & quiet apt home by the park     2787   \n",
       "1  2595                             Skylit Midtown Castle     2845   \n",
       "2  3647               THE VILLAGE OF HARLEM....NEW YORK !     4632   \n",
       "3  3831                   Cozy Entire Floor of Brownstone     4869   \n",
       "4  5022  Entire Apt: Spacious Studio/Loft by central park     7192   \n",
       "\n",
       "     host_name neighbourhood_group neighbourhood  latitude  longitude  \\\n",
       "0         John            Brooklyn    Kensington  0.357393   0.511921   \n",
       "1     Jennifer           Manhattan       Midtown  0.614199   0.490469   \n",
       "2    Elisabeth           Manhattan        Harlem  0.748252   0.569257   \n",
       "3  LisaRoxanne            Brooklyn  Clinton Hill  0.448496   0.535649   \n",
       "4        Laura           Manhattan   East Harlem  0.722820   0.565324   \n",
       "\n",
       "      price  minimum_nights  number_of_reviews  reviews_per_month  \\\n",
       "0  0.446108        0.000000           0.014308           0.003590   \n",
       "1  0.673653        0.000000           0.071542           0.006496   \n",
       "2  0.449102        0.001601           0.000000           0.000000   \n",
       "3  0.266467        0.000000           0.429253           0.079316   \n",
       "4  0.239521        0.007206           0.014308           0.001709   \n",
       "\n",
       "   calculated_host_listings_count  availability_365  last_review_year  \\\n",
       "0                        0.015337          1.000000            2018.0   \n",
       "1                        0.003067          0.972603            2019.0   \n",
       "2                        0.000000          1.000000               0.0   \n",
       "3                        0.000000          0.531507            2019.0   \n",
       "4                        0.000000          0.000000            2018.0   \n",
       "\n",
       "   last_review_month  room_type_Private room  room_type_Shared room  \n",
       "0               10.0                    True                  False  \n",
       "1                5.0                   False                  False  \n",
       "2                0.0                    True                  False  \n",
       "3                7.0                   False                  False  \n",
       "4               11.0                   False                  False  "
      ]
     },
     "execution_count": 68,
     "metadata": {},
     "output_type": "execute_result"
    }
   ],
   "source": [
    "data.head(\n",
    ")"
   ]
  },
  {
   "cell_type": "code",
   "execution_count": 69,
   "metadata": {},
   "outputs": [],
   "source": [
    "data['host_activity_level'] = data['reviews_per_month'] / (data['calculated_host_listings_count'] + 1)\n"
   ]
  },
  {
   "cell_type": "code",
   "execution_count": 70,
   "metadata": {},
   "outputs": [],
   "source": [
    "from datetime import datetime\n",
    "\n",
    "data['days_since_last_review'] = (datetime.now().year - data['last_review_year']) * 365 + (12 - data['last_review_month']) * 30\n",
    "data['days_since_last_review'] = data['days_since_last_review'].replace({datetime.now().year * 365: 0})\n"
   ]
  },
  {
   "cell_type": "code",
   "execution_count": 71,
   "metadata": {},
   "outputs": [],
   "source": [
    "data['price_per_minimum_night'] = data['price'] / (data['minimum_nights'] + 1)\n",
    "data['price_per_minimum_night'] = scaler.fit_transform(data[['price_per_minimum_night']])\n"
   ]
  },
  {
   "cell_type": "code",
   "execution_count": 72,
   "metadata": {},
   "outputs": [],
   "source": [
    "data['high_availability_flag'] = data['availability_365'].apply(lambda x: 1 if x == 365 else 0)\n"
   ]
  },
  {
   "cell_type": "code",
   "execution_count": 73,
   "metadata": {},
   "outputs": [],
   "source": [
    "data['review_rate_flag'] = data.apply(lambda x: 1 if x['number_of_reviews'] == 0 and x['availability_365'] > 200 else 0, axis=1)\n"
   ]
  },
  {
   "cell_type": "code",
   "execution_count": 74,
   "metadata": {},
   "outputs": [],
   "source": [
    "data.drop(columns=['last_review_year', 'last_review_month', 'minimum_nights'], inplace=True)\n"
   ]
  },
  {
   "cell_type": "code",
   "execution_count": 75,
   "metadata": {},
   "outputs": [
    {
     "data": {
      "text/plain": [
       "id                                  int64\n",
       "name                               object\n",
       "host_id                             int64\n",
       "host_name                          object\n",
       "neighbourhood_group                object\n",
       "neighbourhood                      object\n",
       "latitude                          float64\n",
       "longitude                         float64\n",
       "price                             float64\n",
       "number_of_reviews                 float64\n",
       "reviews_per_month                 float64\n",
       "calculated_host_listings_count    float64\n",
       "availability_365                  float64\n",
       "room_type_Private room               bool\n",
       "room_type_Shared room                bool\n",
       "host_activity_level               float64\n",
       "days_since_last_review            float64\n",
       "price_per_minimum_night           float64\n",
       "high_availability_flag              int64\n",
       "review_rate_flag                    int64\n",
       "dtype: object"
      ]
     },
     "execution_count": 75,
     "metadata": {},
     "output_type": "execute_result"
    }
   ],
   "source": [
    "data.dtypes"
   ]
  },
  {
   "cell_type": "code",
   "execution_count": 76,
   "metadata": {},
   "outputs": [
    {
     "name": "stdout",
     "output_type": "stream",
     "text": [
      "is_fake\n",
      "0    24748\n",
      "1    21175\n",
      "Name: count, dtype: int64\n"
     ]
    }
   ],
   "source": [
    "data['is_fake'] = data.apply(lambda x: 1 if (\n",
    "    (x['price_per_minimum_night'] < 15) +  # Lowered threshold\n",
    "    (x['host_activity_level'] < 0.005) +  # Even stricter inactivity check\n",
    "    (x['high_availability_flag'] == 1) +  # Consider only high availability\n",
    "    (x['days_since_last_review'] > 1825)  # 5 years instead of 4\n",
    ") >= 3 else 0, axis=1)\n",
    "\n",
    "print(data['is_fake'].value_counts())  # Check new fake count\n"
   ]
  },
  {
   "cell_type": "code",
   "execution_count": 77,
   "metadata": {},
   "outputs": [
    {
     "name": "stdout",
     "output_type": "stream",
     "text": [
      "       id                                               name  host_id  \\\n",
      "0    2539                 Clean & quiet apt home by the park     2787   \n",
      "2    3647                THE VILLAGE OF HARLEM....NEW YORK !     4632   \n",
      "4    5022   Entire Apt: Spacious Studio/Loft by central park     7192   \n",
      "14   6090                      West Village Nest - Superhost    11975   \n",
      "19   7750                  Huge 2 BR Upper East  Cental Park    17985   \n",
      "20   7801                   Sweet and Spacious Brooklyn Loft    21207   \n",
      "26   8700  Magnifique Suite au N de Manhattan - vue Cloitres    26394   \n",
      "29   9657                   Modern 1 BR / NYC / EAST VILLAGE    21904   \n",
      "36  11452                        Clean and Quiet in Brooklyn     7355   \n",
      "38  11943                          Country space in the city    45445   \n",
      "42  12303                  1bdr w private bath. in lofty apt    47618   \n",
      "48  13050                          bright and stylish duplex    50846   \n",
      "54  14322                Beautiful Apartment in Manhattan!!!    56284   \n",
      "56  14991                 Great Location, Manhattan Bedroom!    59023   \n",
      "64  16338  Double Room w Private Deck Clinton Hill Best Area    63613   \n",
      "66  16458  Light-filled 2B duplex in the heart of Park Sl...    64056   \n",
      "75  18127             Charming East Village One Bedroom Flat    69829   \n",
      "77  18198                              Little King of Queens    70091   \n",
      "83  19282                    Sunny, Spacious Top Floor Haven    73469   \n",
      "88  20300                             Great Location for NYC    76627   \n",
      "\n",
      "          host_name neighbourhood_group       neighbourhood  latitude  \\\n",
      "0              John            Brooklyn          Kensington  0.357393   \n",
      "2         Elisabeth           Manhattan              Harlem  0.748252   \n",
      "4             Laura           Manhattan         East Harlem  0.722820   \n",
      "14            Alina           Manhattan        West Village  0.569870   \n",
      "19             Sing           Manhattan         East Harlem  0.718804   \n",
      "20            Chaya            Brooklyn        Williamsburg  0.529025   \n",
      "26  Claude & Sophie           Manhattan              Inwood  0.889854   \n",
      "29             Dana           Manhattan        East Village  0.555109   \n",
      "36               Vt            Brooklyn  Bedford-Stuyvesant  0.457256   \n",
      "38          Harriet            Brooklyn            Flatbush  0.332059   \n",
      "42          Yolande            Brooklyn         Fort Greene  0.476541   \n",
      "48         Jennifer            Brooklyn  Bedford-Stuyvesant  0.449464   \n",
      "54        Francesca           Manhattan            Kips Bay  0.580299   \n",
      "56           Bianca           Manhattan     Lower East Side  0.532945   \n",
      "64         Patricia            Brooklyn        Clinton Hill  0.460256   \n",
      "66             Sara            Brooklyn          Park Slope  0.420161   \n",
      "75             Josh           Manhattan        East Village  0.552883   \n",
      "77           Justin              Queens            Woodside  0.606359   \n",
      "83             Gaia            Brooklyn            Flatbush  0.373170   \n",
      "88              Pas           Manhattan        East Village  0.554916   \n",
      "\n",
      "    longitude     price  number_of_reviews  ...  \\\n",
      "0    0.511921  0.446108           0.014308  ...   \n",
      "2    0.569257  0.449102           0.000000  ...   \n",
      "4    0.565324  0.239521           0.014308  ...   \n",
      "14   0.450050  0.359281           0.042925  ...   \n",
      "19   0.556423  0.568862           0.000000  ...   \n",
      "20   0.540504  0.895210           0.014308  ...   \n",
      "26   0.598442  0.239521           0.000000  ...   \n",
      "29   0.487364  0.538922           0.046105  ...   \n",
      "36   0.566961  0.104790           0.000000  ...   \n",
      "38   0.529044  0.449102           0.000000  ...   \n",
      "42   0.505391  0.359281           0.039746  ...   \n",
      "48   0.571138  0.344311           0.017488  ...   \n",
      "54   0.496171  0.598802           0.030207  ...   \n",
      "56   0.476789  0.329341           0.030207  ...   \n",
      "64   0.520370  0.164671           0.042925  ...   \n",
      "66   0.491203  0.673653           0.006359  ...   \n",
      "75   0.482491  0.568862           0.033386  ...   \n",
      "77   0.641815  0.209581           0.039746  ...   \n",
      "83   0.529120  0.389222           0.025437  ...   \n",
      "88   0.496491  0.149701           0.003180  ...   \n",
      "\n",
      "    calculated_host_listings_count  availability_365  room_type_Private room  \\\n",
      "0                         0.015337          1.000000                    True   \n",
      "2                         0.000000          1.000000                    True   \n",
      "4                         0.000000          0.000000                   False   \n",
      "14                        0.000000          0.000000                   False   \n",
      "19                        0.003067          0.682192                   False   \n",
      "20                        0.000000          0.000000                   False   \n",
      "26                        0.000000          0.000000                    True   \n",
      "29                        0.000000          0.183562                   False   \n",
      "36                        0.000000          1.000000                    True   \n",
      "38                        0.000000          1.000000                    True   \n",
      "42                        0.000000          0.852055                    True   \n",
      "48                        0.000000          0.000000                   False   \n",
      "54                        0.000000          0.704110                   False   \n",
      "56                        0.000000          0.824658                    True   \n",
      "64                        0.003067          0.800000                    True   \n",
      "66                        0.000000          0.000000                   False   \n",
      "75                        0.000000          0.613699                   False   \n",
      "77                        0.000000          0.887671                    True   \n",
      "83                        0.000000          0.104110                   False   \n",
      "88                        0.000000          0.000000                    True   \n",
      "\n",
      "    room_type_Shared room  host_activity_level  days_since_last_review  \\\n",
      "0                   False             0.003536                  2615.0   \n",
      "2                   False             0.000000                739485.0   \n",
      "4                   False             0.001709                  2585.0   \n",
      "14                  False             0.003761                  2615.0   \n",
      "19                  False             0.000000                739485.0   \n",
      "20                  False             0.001197                  5110.0   \n",
      "26                  False             0.000000                739485.0   \n",
      "29                  False             0.004103                  2430.0   \n",
      "36                  False             0.000000                739485.0   \n",
      "38                  False             0.000000                739485.0   \n",
      "42                  False             0.003932                  2645.0   \n",
      "48                  False             0.001709                  3250.0   \n",
      "54                  False             0.003761                  2460.0   \n",
      "56                  False             0.002906                  2400.0   \n",
      "64                  False             0.003920                  3010.0   \n",
      "66                  False             0.002735                  3010.0   \n",
      "75                  False             0.003419                  2520.0   \n",
      "77                  False             0.003761                  2400.0   \n",
      "83                  False             0.002564                  2370.0   \n",
      "88                  False             0.000855                  3585.0   \n",
      "\n",
      "    price_per_minimum_night  high_availability_flag  review_rate_flag  is_fake  \n",
      "0                  0.447447                       0                 0        1  \n",
      "2                  0.449730                       0                 0        1  \n",
      "4                  0.238522                       0                 0        1  \n",
      "14                 0.336390                       0                 0        1  \n",
      "19                 0.567843                       0                 0        1  \n",
      "20                 0.896462                       0                 0        1  \n",
      "26                 0.239665                       0                 0        1  \n",
      "29                 0.534972                       0                 0        1  \n",
      "36                 0.100364                       0                 0        1  \n",
      "38                 0.450450                       0                 0        1  \n",
      "42                 0.358638                       0                 0        1  \n",
      "48                 0.344793                       0                 0        1  \n",
      "54                 0.597729                       0                 0        1  \n",
      "56                 0.329276                       0                 0        1  \n",
      "64                 0.164376                       0                 0        1  \n",
      "66                 0.674595                       0                 0        1  \n",
      "75                 0.568749                       0                 0        1  \n",
      "77                 0.205440                       0                 0        1  \n",
      "83                 0.388834                       0                 0        1  \n",
      "88                 0.150150                       0                 0        1  \n",
      "\n",
      "[20 rows x 21 columns]\n"
     ]
    }
   ],
   "source": [
    "print(data[data['is_fake'] == 1].head(20))  # See some \"fake\" listings\n"
   ]
  },
  {
   "cell_type": "code",
   "execution_count": 78,
   "metadata": {},
   "outputs": [
    {
     "name": "stdout",
     "output_type": "stream",
     "text": [
      "       id                                               name  host_id  \\\n",
      "0    2539                 Clean & quiet apt home by the park     2787   \n",
      "2    3647                THE VILLAGE OF HARLEM....NEW YORK !     4632   \n",
      "4    5022   Entire Apt: Spacious Studio/Loft by central park     7192   \n",
      "14   6090                      West Village Nest - Superhost    11975   \n",
      "19   7750                  Huge 2 BR Upper East  Cental Park    17985   \n",
      "20   7801                   Sweet and Spacious Brooklyn Loft    21207   \n",
      "26   8700  Magnifique Suite au N de Manhattan - vue Cloitres    26394   \n",
      "29   9657                   Modern 1 BR / NYC / EAST VILLAGE    21904   \n",
      "36  11452                        Clean and Quiet in Brooklyn     7355   \n",
      "38  11943                          Country space in the city    45445   \n",
      "\n",
      "          host_name neighbourhood_group       neighbourhood  latitude  \\\n",
      "0              John            Brooklyn          Kensington  0.357393   \n",
      "2         Elisabeth           Manhattan              Harlem  0.748252   \n",
      "4             Laura           Manhattan         East Harlem  0.722820   \n",
      "14            Alina           Manhattan        West Village  0.569870   \n",
      "19             Sing           Manhattan         East Harlem  0.718804   \n",
      "20            Chaya            Brooklyn        Williamsburg  0.529025   \n",
      "26  Claude & Sophie           Manhattan              Inwood  0.889854   \n",
      "29             Dana           Manhattan        East Village  0.555109   \n",
      "36               Vt            Brooklyn  Bedford-Stuyvesant  0.457256   \n",
      "38          Harriet            Brooklyn            Flatbush  0.332059   \n",
      "\n",
      "    longitude     price  number_of_reviews  ...  \\\n",
      "0    0.511921  0.446108           0.014308  ...   \n",
      "2    0.569257  0.449102           0.000000  ...   \n",
      "4    0.565324  0.239521           0.014308  ...   \n",
      "14   0.450050  0.359281           0.042925  ...   \n",
      "19   0.556423  0.568862           0.000000  ...   \n",
      "20   0.540504  0.895210           0.014308  ...   \n",
      "26   0.598442  0.239521           0.000000  ...   \n",
      "29   0.487364  0.538922           0.046105  ...   \n",
      "36   0.566961  0.104790           0.000000  ...   \n",
      "38   0.529044  0.449102           0.000000  ...   \n",
      "\n",
      "    calculated_host_listings_count  availability_365  room_type_Private room  \\\n",
      "0                         0.015337          1.000000                    True   \n",
      "2                         0.000000          1.000000                    True   \n",
      "4                         0.000000          0.000000                   False   \n",
      "14                        0.000000          0.000000                   False   \n",
      "19                        0.003067          0.682192                   False   \n",
      "20                        0.000000          0.000000                   False   \n",
      "26                        0.000000          0.000000                    True   \n",
      "29                        0.000000          0.183562                   False   \n",
      "36                        0.000000          1.000000                    True   \n",
      "38                        0.000000          1.000000                    True   \n",
      "\n",
      "    room_type_Shared room  host_activity_level  days_since_last_review  \\\n",
      "0                   False             0.003536                  2615.0   \n",
      "2                   False             0.000000                739485.0   \n",
      "4                   False             0.001709                  2585.0   \n",
      "14                  False             0.003761                  2615.0   \n",
      "19                  False             0.000000                739485.0   \n",
      "20                  False             0.001197                  5110.0   \n",
      "26                  False             0.000000                739485.0   \n",
      "29                  False             0.004103                  2430.0   \n",
      "36                  False             0.000000                739485.0   \n",
      "38                  False             0.000000                739485.0   \n",
      "\n",
      "    price_per_minimum_night  high_availability_flag  review_rate_flag  is_fake  \n",
      "0                  0.447447                       0                 0        1  \n",
      "2                  0.449730                       0                 0        1  \n",
      "4                  0.238522                       0                 0        1  \n",
      "14                 0.336390                       0                 0        1  \n",
      "19                 0.567843                       0                 0        1  \n",
      "20                 0.896462                       0                 0        1  \n",
      "26                 0.239665                       0                 0        1  \n",
      "29                 0.534972                       0                 0        1  \n",
      "36                 0.100364                       0                 0        1  \n",
      "38                 0.450450                       0                 0        1  \n",
      "\n",
      "[10 rows x 21 columns]\n"
     ]
    }
   ],
   "source": [
    "print(data[data['is_fake'] == 1].head(10))\n"
   ]
  },
  {
   "cell_type": "code",
   "execution_count": 79,
   "metadata": {
    "vscode": {
     "languageId": "ruby"
    }
   },
   "outputs": [
    {
     "name": "stdout",
     "output_type": "stream",
     "text": [
      "45923\n",
      "40188\n",
      "0\n",
      "45923\n"
     ]
    }
   ],
   "source": [
    "print(data[data['price_per_minimum_night'] < 5].shape[0])  # Too strict?\n",
    "print(data[data['host_activity_level'] < 0.05].shape[0])  # Too many inactive?\n",
    "print(data[(data['review_rate_flag'] == 1) & (data['high_availability_flag'] == 1)].shape[0])\n",
    "print(data[data['days_since_last_review'] > 1095].shape[0])  # Too many inactive reviews?\n"
   ]
  },
  {
   "cell_type": "code",
   "execution_count": 80,
   "metadata": {
    "vscode": {
     "languageId": "ruby"
    }
   },
   "outputs": [
    {
     "name": "stdout",
     "output_type": "stream",
     "text": [
      "suspicious_flag\n",
      "0    31176\n",
      "2     9012\n",
      "1     5735\n",
      "Name: count, dtype: int64\n"
     ]
    }
   ],
   "source": [
    "import pandas as pd\n",
    "\n",
    "# Assuming 'data' is your DataFrame\n",
    "\n",
    "def classify_suspicious(row):\n",
    "    if row['price_per_minimum_night'] < 5:\n",
    "        if row['host_activity_level'] > 0.05 or row['days_since_last_review'] < 365:\n",
    "            return 1  # 🚩 Possibly Suspicious (New & Active Host)\n",
    "        elif row['calculated_host_listings_count'] > 5 or row['host_activity_level'] == 0:\n",
    "            return 2  # 🚨 More Likely Fake (Inactive or Multi-listing Host)\n",
    "    return 0  # ✅ Likely Real\n",
    "\n",
    "# Apply classification logic\n",
    "data['suspicious_flag'] = data.apply(classify_suspicious, axis=1)\n",
    "\n",
    "# Checking counts\n",
    "print(data['suspicious_flag'].value_counts())\n"
   ]
  },
  {
   "cell_type": "code",
   "execution_count": 82,
   "metadata": {
    "vscode": {
     "languageId": "ruby"
    }
   },
   "outputs": [
    {
     "data": {
      "image/png": "[encoded data removed]",
      "text/plain": [
       "<Figure size 1000x600 with 2 Axes>"
      ]
     },
     "metadata": {},
     "output_type": "display_data"
    }
   ],
   "source": [
    "numeric_data = data.select_dtypes(include=[np.number])  # Keep only numeric features\n",
    "corr_matrix = numeric_data.corr()\n",
    "\n",
    "# Now plot the heatmap\n",
    "plt.figure(figsize=(10, 6))\n",
    "sns.heatmap(corr_matrix[['is_fake']].sort_values(by='is_fake', ascending=False), \n",
    "            annot=True, cmap='coolwarm', linewidths=0.5)\n",
    "plt.title(\"Correlation of Features with Fake Listings\")\n",
    "plt.show()\n"
   ]
  },
  {
   "cell_type": "code",
   "execution_count": 84,
   "metadata": {
    "vscode": {
     "languageId": "ruby"
    }
   },
   "outputs": [
    {
     "name": "stderr",
     "output_type": "stream",
     "text": [
      "C:\\Users\\hp\\AppData\\Local\\Temp\\ipykernel_19148\\1788962146.py:9: FutureWarning: \n",
      "\n",
      "Passing `palette` without assigning `hue` is deprecated and will be removed in v0.14.0. Assign the `x` variable to `hue` and set `legend=False` for the same effect.\n",
      "\n",
      "  sns.countplot(x=data['suspicious_flag'], palette=\"coolwarm\")\n"
     ]
    },
    {
     "data": {
      "image/png": "[encoded data removed]",
      "text/plain": [
       "<Figure size 600x400 with 1 Axes>"
      ]
     },
     "metadata": {},
     "output_type": "display_data"
    },
    {
     "name": "stderr",
     "output_type": "stream",
     "text": [
      "C:\\Users\\hp\\AppData\\Local\\Temp\\ipykernel_19148\\1788962146.py:17: FutureWarning: \n",
      "\n",
      "Passing `palette` without assigning `hue` is deprecated and will be removed in v0.14.0. Assign the `x` variable to `hue` and set `legend=False` for the same effect.\n",
      "\n",
      "  sns.boxplot(x=data['suspicious_flag'], y=data['price'], palette=\"coolwarm\")\n"
     ]
    },
    {
     "data": {
      "image/png": "[encoded data removed]",
      "text/plain": [
       "<Figure size 800x500 with 1 Axes>"
      ]
     },
     "metadata": {},
     "output_type": "display_data"
    }
   ],
   "source": [
    "import matplotlib.pyplot as plt\n",
    "import seaborn as sns\n",
    "\n",
    "# Set plot style\n",
    "sns.set_theme(style=\"whitegrid\")\n",
    "\n",
    "# Figure 1: Bar chart of suspicious_flag distribution\n",
    "plt.figure(figsize=(6, 4))\n",
    "sns.countplot(x=data['suspicious_flag'], palette=\"coolwarm\")\n",
    "plt.title(\"Distribution of Suspicious Listings\")\n",
    "plt.xlabel(\"Suspicious Category (0 = Legit, 1 = Review, 2 = Likely Fake)\")\n",
    "plt.ylabel(\"Count\")\n",
    "plt.show()\n",
    "\n",
    "# Figure 3: Boxplot of price across suspicious_flag categories\n",
    "plt.figure(figsize=(8, 5))\n",
    "sns.boxplot(x=data['suspicious_flag'], y=data['price'], palette=\"coolwarm\")\n",
    "plt.ylim(0, data['price'].quantile(0.95))  # Limit extreme values for better visualization\n",
    "plt.title(\"Price Distribution by Suspicious Category\")\n",
    "plt.xlabel(\"Suspicious Category\")\n",
    "plt.ylabel(\"Price ($)\")\n",
    "plt.show()\n"
   ]
  },
  {
   "cell_type": "code",
   "execution_count": 85,
   "metadata": {
    "vscode": {
     "languageId": "ruby"
    }
   },
   "outputs": [],
   "source": [
    "data.to_csv(\"filtered_listings.csv\", index=False)\n"
   ]
  },
  {
   "cell_type": "code",
   "execution_count": null,
   "metadata": {
    "vscode": {
     "languageId": "ruby"
    }
   },
   "outputs": [],
   "source": []
  }
 ],
 "metadata": {
  "kernelspec": {
   "display_name": "Python 3",
   "language": "python",
   "name": "python3"
  },
  "language_info": {
   "codemirror_mode": {
    "name": "ipython",
    "version": 3
   },
   "file_extension": ".py",
   "mimetype": "text/x-python",
   "name": "python",
   "nbconvert_exporter": "python",
   "pygments_lexer": "ipython3",
   "version": "3.11.9"
  }
 },
 "nbformat": 4,
 "nbformat_minor": 2
}
